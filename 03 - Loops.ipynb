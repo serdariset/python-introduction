{
 "cells": [
  {
   "cell_type": "markdown",
   "metadata": {},
   "source": [
    "# Loops in Python\n",
    "<hr style=\"color:deeppink\">\n",
    "\n",
    "* Python'da iki farklı döngü tipi vardır. Bunlar **for** ve **while** döngüleridir.\n",
    "* Döngüler bir koşul gerçekleşene kadar tekrar eden, temiz kod yazmayı sağlayan ve kod tekrarına düşmekten kurtaran yapılardır.\n"
   ]
  },
  {
   "cell_type": "markdown",
   "metadata": {},
   "source": [
    "## For Loop\n",
    "<hr style=\"color:deeppink\">\n",
    "\n",
    "* **for** döngüsü temelde, **String, List, Set, Tuple ve Dictionary** veri tiplerinin elemanlarına ulaşmak için kullanılır.\n",
    "* Sadece veri tiplerinin elemanlarına ulaşmak için değil, belirlediğimiz sayısal aralıklar için de kullanabiliriz."
   ]
  },
  {
   "cell_type": "markdown",
   "metadata": {},
   "source": [
    "### ▶️ List [ ] \n",
    "\n",
    "* **for** döngüsünü kullanarak bir list veri tipindeki değişkenin tüm elemanlarına ulaşabilir, müdahale edebiliriz."
   ]
  },
  {
   "cell_type": "code",
   "execution_count": null,
   "metadata": {},
   "outputs": [],
   "source": [
    "names = ['Ali', 'Ahmet', 'Mahmut', 'Ayşe', 'Aybüke']\n",
    "\n",
    "for name in names:    \n",
    "     print(name) "
   ]
  },
  {
   "cell_type": "markdown",
   "metadata": {},
   "source": [
    "### ▶️ Tuple ( ) \n",
    "* **for** döngüsünü kullanarak bir tuple veri tipindeki değişkenin tüm elemanlarına ulaşabiliriz.\n",
    "* Tuple tiplerininin elemanlarına for düngüsü kullanarak müdahale edemeyiz, çünkü tuple mutable bir veri tipidir."
   ]
  },
  {
   "cell_type": "code",
   "execution_count": null,
   "metadata": {},
   "outputs": [],
   "source": [
    "numbers = (1,2,3,4)\n",
    "for num in numbers:\n",
    "    print(num)"
   ]
  },
  {
   "cell_type": "markdown",
   "metadata": {},
   "source": [
    "### ▶️ Set { }\n",
    "* **for** döngüsünü kullanarak bir set veri tipindeki değişkenin tüm elemanlarına ulaşabiliriz."
   ]
  },
  {
   "cell_type": "code",
   "execution_count": null,
   "metadata": {},
   "outputs": [],
   "source": [
    "set1 = {1,2,3,4}\n",
    "for num in set1:\n",
    "    print(num)"
   ]
  },
  {
   "cell_type": "markdown",
   "metadata": {},
   "source": [
    "### ▶️ Dictionary { key : value }\n",
    "* **for** döngüsünü kullanarak bir set dict tipindeki değişkenin tüm elemanlarına ulaşabilir, müdahale edebiliriz."
   ]
  },
  {
   "cell_type": "code",
   "execution_count": null,
   "metadata": {},
   "outputs": [],
   "source": [
    "dic = {'name':'Ali', 'surname':'Kaya'}\n",
    "\n",
    "for item in dic:\n",
    "    print(item) # Sadece keyleri yazdırır."
   ]
  },
  {
   "cell_type": "code",
   "execution_count": null,
   "metadata": {},
   "outputs": [],
   "source": [
    "for key,value in dic.items():\n",
    "    print('key: ' +key,'value: ' + value) # Key ve value'ları da yazdırır."
   ]
  },
  {
   "cell_type": "code",
   "execution_count": null,
   "metadata": {},
   "outputs": [],
   "source": [
    "for key in dic.keys():\n",
    "    print(key) # Sadece keyleri yazdırır."
   ]
  },
  {
   "cell_type": "code",
   "execution_count": null,
   "metadata": {},
   "outputs": [],
   "source": [
    "for value in dic.values():\n",
    "    print(value) # Sadece value'ları yazdırır."
   ]
  },
  {
   "cell_type": "markdown",
   "metadata": {},
   "source": [
    "### ▶️ String \" \"\n",
    "* **for** döngüsünü kullanarak string bir ifadenin tüm karakterlerine ulaşabiliriz.\n",
    "* Ulaştığımız karakterlere müdahale edemeyiz, stringler mutable bir veri tipidir."
   ]
  },
  {
   "cell_type": "code",
   "execution_count": null,
   "metadata": {},
   "outputs": [],
   "source": [
    "txt = 'Hello World'\n",
    "\n",
    "for letter in txt:\n",
    "    print(letter)"
   ]
  },
  {
   "cell_type": "markdown",
   "metadata": {},
   "source": [
    "## While Loop\n",
    "<hr style=\"color:deeppink\">\n",
    "\n",
    "* **while** döngüleri belli bir istek gerçkeleşene kadar tekrar eden kod yapılarıdır."
   ]
  },
  {
   "cell_type": "code",
   "execution_count": null,
   "metadata": {},
   "outputs": [],
   "source": [
    "i = 1\n",
    "while i < 5:\n",
    "  print(i)\n",
    "  i += 1"
   ]
  },
  {
   "cell_type": "code",
   "execution_count": null,
   "metadata": {},
   "outputs": [],
   "source": [
    "x = 1\n",
    "while x <= 20:\n",
    "    if x % 2==1:\n",
    "        print(f'sayı tek: {x}')\n",
    "    else:\n",
    "        print(f'sayı çift: {x}')\n",
    "    x += 1\n",
    "\n",
    "print('bitti...')"
   ]
  },
  {
   "cell_type": "markdown",
   "metadata": {},
   "source": [
    "## Loop Operators - Statements\n",
    "<hr style=\"color:deeppink\">"
   ]
  },
  {
   "cell_type": "markdown",
   "metadata": {},
   "source": [
    "#### ▶️ break\n",
    "* break anahtarı döngüler içinde bir durum gerçekleştiği zaman döngünün **bitirilmesi** için kullanılır.\n",
    "<br><br>\n",
    "<br>\n",
    "* Örnek 1'de ki while döngüsünde görüldüğü üzere, x değeri 2'ye eşit olduğunu döngü biter.\n",
    "* Örnek 2'de ki for döngüsünde görüldüğü üzere, x değeri 'banana' ya eşit olduğunu döngü biter.\n",
    "\n"
   ]
  },
  {
   "cell_type": "code",
   "execution_count": null,
   "metadata": {},
   "outputs": [],
   "source": [
    "# Örnek 1\n",
    "x = 0\n",
    "while x < 5:    \n",
    "   x+=1\n",
    "   if x == 2:\n",
    "       break\n",
    "   print(x)"
   ]
  },
  {
   "cell_type": "code",
   "execution_count": null,
   "metadata": {},
   "outputs": [],
   "source": [
    "#Örnek 2\n",
    "fruits = [\"apple\", \"banana\", \"cherry\"]\n",
    "for x in fruits:\n",
    "  print(x) \n",
    "  if x == \"banana\":\n",
    "    break"
   ]
  },
  {
   "cell_type": "markdown",
   "metadata": {},
   "source": [
    "#### ▶️ continue\n",
    "* continue anahtarı döngüler içinde bir durum gerçekleştiğinde yapılmak istenen işlemi yapmadan bir sonraki döngü işlemine geçer.\n",
    "<br><br>\n",
    "<br>\n",
    "* Örnek 1'de ki while döngüsünde görüldüğü üzere, x değeri 2'ye eşit olduğunu döngü bir sonraki sorguya geçer.\n",
    "* Örnek 2'de ki for döngüsünde görüldüğü üzere, x değeri 'banana' ya eşit olduğunu döngü bir sonraki işlemi gerçekleştirir.\n",
    "\n"
   ]
  },
  {
   "cell_type": "code",
   "execution_count": null,
   "metadata": {},
   "outputs": [],
   "source": [
    "# Örnek 1\n",
    "x = 0\n",
    "while x < 5:    \n",
    "   x+=1\n",
    "   if x == 2:\n",
    "       continue\n",
    "   print(x)"
   ]
  },
  {
   "cell_type": "code",
   "execution_count": null,
   "metadata": {},
   "outputs": [],
   "source": [
    "#Örnek 2\n",
    "fruits = [\"apple\", \"banana\", \"cherry\"]\n",
    "for x in fruits:\n",
    "  if x == \"banana\":\n",
    "    continue\n",
    "  print(x) \n"
   ]
  },
  {
   "cell_type": "markdown",
   "metadata": {},
   "source": [
    "#### ▶️ enumerate( )\n",
    "* enumerate fonksiyonu döngüler içindeki elemanların index numaralarını almak için kullanabileceğimiz bir fonksiyondur.\n",
    "* Bu fonksiyon sadece indexlenebilen veri tiplerinde kullanılabilir. (List, tuple, string)\n",
    "* Temelde iki parametre alır. Bunların ilki veri, ikincisi ise index numaralarının hangi sayıdan başlayacağını belirtir.\n",
    "* İkinci parametreyi almaması durumunda default olarak 0 index'inden başlar.\n",
    "\n"
   ]
  },
  {
   "cell_type": "code",
   "execution_count": null,
   "metadata": {},
   "outputs": [],
   "source": [
    "liste1 = ['a', 'b', 'c', 'd', 'e']\n",
    "tuple1 = ('f', 'g', 'h', 'j', 'k')\n",
    "string1 = 'hello'\n",
    "\n",
    "for index, item in enumerate(liste1):\n",
    "    print(index, item)"
   ]
  },
  {
   "cell_type": "code",
   "execution_count": null,
   "metadata": {},
   "outputs": [],
   "source": [
    "for i, letter in enumerate(string1, start=3):\n",
    "    print(i, letter)"
   ]
  },
  {
   "cell_type": "markdown",
   "metadata": {},
   "source": [
    "#### ▶️ range( )\n",
    "* Range() fonksiyonu Python'da sayı aralıkları üretmek için kullanılabilir.\n",
    "* Range fonksiyonu temel de 3 parametre alır. İlk parametrenin verilmesi zorunludur.\n",
    "* range(n), tek parametre aldığı durumda 0 ile n-1  arasında sayı üretir.\n",
    "* range(a,b), iki parametre aldığı durumda a ile b-1 arasında sayı üretir.\n",
    "* range(a, b, c), üç parametre aldığı durumda a ile b arasında ki sayıları c kadar artırarak üretir.\n",
    "* Range fonksiyonu geriye bir dizi döndürmez. Döndürülen sayıları bir diziye aktarmak için tip dönüşümü methodları kullanılabilir."
   ]
  },
  {
   "cell_type": "code",
   "execution_count": null,
   "metadata": {},
   "outputs": [],
   "source": [
    "nums1 = list(range(5))\n",
    "nums2 = list(range(2,5))\n",
    "nums3 = list(range(1, 10 , 3))\n",
    "print(f\"Tek parametre: {nums1}\")\n",
    "print(f\"İki parametre: {nums2}\")\n",
    "print(f\"Üç parametre: {nums3}\")"
   ]
  },
  {
   "cell_type": "code",
   "execution_count": null,
   "metadata": {},
   "outputs": [],
   "source": [
    "init_list = [0, 1, 2, 3, 4, 5]\n",
    "print('Type of init_list is :', type(init_list))\n",
    "\n",
    "instance_range = range(1, 10)\n",
    "print(\"Type of instance_range is :\", type(instance_range))"
   ]
  },
  {
   "cell_type": "markdown",
   "metadata": {},
   "source": [
    "#### ▶️ zip()\n",
    "\n",
    "* Birden fazla list dizisini birleştirir veya işleme sokar ve tuple olarak döndürür.\n",
    "* Eğer list dizelerinin eleman sayıları eşit değilse uzunluğu en az olan list tipinin veri sayısı kadar tuple döndürür."
   ]
  },
  {
   "cell_type": "code",
   "execution_count": null,
   "metadata": {},
   "outputs": [],
   "source": [
    "names = ['mahmut', 'serdar', 'iset']\n",
    "ages = [23, 24]\n",
    "\n",
    "for n in zip(names, ages):\n",
    "    print(n)"
   ]
  },
  {
   "cell_type": "markdown",
   "metadata": {},
   "source": [
    "## Comphensions\n",
    "<hr style=\"color:deeppink\">\n",
    "\n",
    "* Comphensions'lar for döngülerini kısaltarak list dizelerinin içine veri eklemek için kullanılabilir."
   ]
  },
  {
   "cell_type": "code",
   "execution_count": null,
   "metadata": {},
   "outputs": [],
   "source": [
    "# Normal yol\n",
    "numbers = []\n",
    "for x in range(10):\n",
    "    numbers.append(x)\n",
    "print(numbers)"
   ]
  },
  {
   "cell_type": "code",
   "execution_count": null,
   "metadata": {},
   "outputs": [],
   "source": [
    "# Comphensions Metodu\n",
    "nums = [x for x in range(10)]\n",
    "print(nums)"
   ]
  },
  {
   "cell_type": "markdown",
   "metadata": {},
   "source": [
    "* Comphensions'larda if sorguları yada def ve lambda gibi fonksiyonlar kullanılabilir.\n",
    "<br><br>\n",
    "\n",
    "1. Örnekte görüldüğü üzere range fonsiyonu ile 0 - 9 arasında sayılar üretilir.\n",
    "2. Ardından gelen if sorgusu ile üretilen sayıların çift olup olmadığı kontrol edilir.\n",
    "3. Son olarak her bir döngü sonucu ilk yazılan x değişkeni olarak list dizisine eklenir."
   ]
  },
  {
   "cell_type": "code",
   "execution_count": null,
   "metadata": {},
   "outputs": [],
   "source": [
    "# if sorgusu\n",
    "evens = [x for x in range(10) if x % 2 == 0]\n",
    "print(evens)"
   ]
  },
  {
   "cell_type": "code",
   "execution_count": null,
   "metadata": {},
   "outputs": [],
   "source": [
    "# def fonksiyonu\n",
    "def take_sqrt(x):\n",
    "    return x ** 2\n",
    "\n",
    "sqr = [take_sqrt(x) for x in range(10) ]\n",
    "print(sqr)"
   ]
  }
 ],
 "metadata": {
  "interpreter": {
   "hash": "57ef28c43a83a86da422f2ca874807688a7f4cb3bf547c67a694492636133cae"
  },
  "kernelspec": {
   "display_name": "Python 3.10.4 64-bit",
   "language": "python",
   "name": "python3"
  },
  "language_info": {
   "codemirror_mode": {
    "name": "ipython",
    "version": 3
   },
   "file_extension": ".py",
   "mimetype": "text/x-python",
   "name": "python",
   "nbconvert_exporter": "python",
   "pygments_lexer": "ipython3",
   "version": "3.10.4"
  },
  "orig_nbformat": 4
 },
 "nbformat": 4,
 "nbformat_minor": 2
}
