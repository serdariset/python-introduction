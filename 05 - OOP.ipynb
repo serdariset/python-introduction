{
 "cells": [
  {
   "cell_type": "markdown",
   "metadata": {},
   "source": [
    "# Object Oriented Programming\n",
    "<hr style=\"color:deeppink\">\n",
    "\n",
    "* OOP programlama sürecini hızlandıran, kod tekrarlarını azaltan, tekrar tekrar kullanılabilen yapılardır.\n",
    "* Bu özellikler sayesinde bir defa oluşturduğumuz yapıyı farklı yerlerde kullanıp, değişiklikler yapmak istediğimizde tek bir yerden düzenleme yapmamız mümkündür."
   ]
  },
  {
   "cell_type": "markdown",
   "metadata": {},
   "source": [
    "## Class\n",
    "<hr style=\"color:deeppink\">\n",
    "\n",
    "* Gerçek hayatta nesne olarak ifade edebileceğimiz şeyleri programlama dilinde temsil edecek yapıya **class** denir.\n",
    "* Örneğin masa, bilgisayar, araba, ağaç ve hatta insan. Her biri bir geneli ifade eder fakat her birinin kendi içinde birbirinden ayırt eden özellileri vardır. Masanın boyutları, yapıldığı malzemenin cinsi, rengi yada arabanın rengi, motor gücü, hız limiti. Her bir özellik farklılıklar gösterebilir.\n",
    "* Python'da tüm bu saydığımız özellikleri oluşturmak için yapıcı methodlar kullanırız."
   ]
  },
  {
   "cell_type": "code",
   "execution_count": null,
   "metadata": {},
   "outputs": [],
   "source": [
    "class Araba():\n",
    "    def __init__(self, model, renk, fiyat):\n",
    "        self.model = model\n",
    "        self.renk = renk\n",
    "        self.fiyat = fiyat\n",
    "\n",
    "araba1 = Araba(\"Mercedes\", \"Beyaz\", \"100.000\")\n",
    "araba2 = Araba(\"BMW\", \"Siyah\", \"120.000\")\n",
    "araba3 = Araba(\"Audi\", \"Beyaz\", \"150.000\")  \n",
    "\n",
    "print(araba1.model, araba2.model, araba3.model)\n",
    "\n",
    "\"\"\"\n",
    "Aslında şöyle bir yapı oluşturduk.\n",
    "\n",
    "arabalar = [\n",
    "    araba1: {\n",
    "        model: \"Mercedes\",\n",
    "        renk: \"Beyaz\",\n",
    "        fiyat: \"100.000\"\n",
    "    },\n",
    "    araba2: {\n",
    "        model: \"BMW\",\n",
    "        renk: \"Siyah\",\n",
    "        fiyat: \"120.000\"\n",
    "    },\n",
    "    araba3: {\n",
    "        model: \"Audi\",\n",
    "        renk: \"Beyaz\",\n",
    "        fiyat: \"150.000\"\n",
    "    }\n",
    "]\n",
    "\"\"\""
   ]
  },
  {
   "cell_type": "markdown",
   "metadata": {},
   "source": [
    "* Yukarıda ki kod bloğunda göründüğü üzere sadece bir class yapısı kullanarak 3 farklı araba ürettik.\n",
    "* Birbirinden farklı arabaları ürettik peki bu yöntemi gerçek hayatta yani programlamada neden ve nerede kullanırız?\n",
    "\n",
    "1. Neden? \n",
    "\n",
    "Aslında örnekte de görebileceğimiz üzere tek bir yapı ile birden fazla NESNE üretebildik. Burada sadece bir yapının işlerimizi otomatize ettiğini, hızlandırdığını görebiliriz.\n",
    "\n",
    "2. Nerede?\n",
    "\n",
    "Programlamada kullanabilecek alanları saymak mümkün değildir. Bir program içerisinde bir şeyi birden fazla kez üretebiliyorsak orada OOP'nin varlığından söz edebiliriz. Örneğin bir websitemiz var ve sitemize kullanıcılar kayıt oluyorlar. Kayıt olmak için bazı bilgileri doldurmaları gereklidir. Bu doldurulan bilgileri veri tabanımıza kaydedeririz ki daha sonra kullanabilelim, örneğin kullanıcıdan bir şifre isteriz ve bunu veri tabanımıza kaydereriz. Kullanıcı sisteme giriş yapmak istediği zaman parolasını girer yapar ve eğer veri tabanındaki parola ile eşleşiyorsa ilgili sayfaya yönlendirme gerçekleştirilir. Peki sistemimize binlerce hata milyonlarca kişinin kaydolduğunu ve bir OOP yapısının olmadığını düşünürsek şöyle bir senaryo ile karşılaşabilirdik, kullanıcı verileri girer verileri alan bir kişi tek tek elle veri tabanına kaydeder. İşlerin ne kadar uzun süreceğini düşünebiliriz. Fakat OOP ile kullanıcı şeklinde bir class oluştururuz ve bunu veri tabanımız ile bağlarız artık kullanıcılardan gelen bilgiler ile class yapısı sayesinde bir nesne oluşacak ve veri tabanına otomatik olarak kaydedilecektir."
   ]
  },
  {
   "cell_type": "markdown",
   "metadata": {},
   "source": [
    "#### ▶️ Constructor Metodu  -  _ _ init _ _ ()\n",
    "* Class'larımız içinde nesnelerimizin değişken özellerinin (attribute) tanımlandığı fonksiyondur.\n",
    "* Constructor fonksiyonları en az iki parametre alır, self ve \\<variable>. Bir den fazla değişken self parametresinden sonra tanımlanır.\n",
    "* İlk parametre olan **self** class'ımızın ismini işaret eder. Class ismi 'User' ise User.isim = isim şeklinde yorumlanabilir.\n"
   ]
  },
  {
   "cell_type": "code",
   "execution_count": null,
   "metadata": {},
   "outputs": [],
   "source": [
    "class User():\n",
    "    def __init__(self, isim, email, parola): # Constructor\n",
    "        self.isim = isim\n",
    "        self.email = email\n",
    "        self.parola = parola"
   ]
  },
  {
   "cell_type": "markdown",
   "metadata": {},
   "source": [
    "#### ▶️ Attributes \n",
    "* Class'larımızda nesneye ait özellikleri tanımladığımız değişkenlerdir. Bu değişkenler class seviyesinde veya nesne seviyesinde olabilir.\n",
    "* Class seviyesinde ki değişkenler sabittir değişmez, nesne seviyesindekiler ise özelliklerini dışarıdan alır."
   ]
  },
  {
   "cell_type": "code",
   "execution_count": null,
   "metadata": {},
   "outputs": [],
   "source": [
    "class Car():\n",
    "    marka = \"BMW\"\n",
    "    def __init__(self, model, renk, fiyat):\n",
    "        self.model = model\n",
    "        self.renk = renk\n",
    "        self.fiyat = fiyat\n",
    "\n",
    "araba1 = Car('X5', 'Beyaz', '100.000')\n",
    "araba2 = Car('X6', 'Siyah', '120.000')\n",
    "araba3 = Car('X7', 'Beyaz', '150.000')\n",
    "\n",
    "print([araba1.marka, araba1.model, araba1.renk])\n",
    "print([araba2.marka, araba2.model, araba2.renk])"
   ]
  },
  {
   "cell_type": "markdown",
   "metadata": {},
   "source": [
    "#### ▶️ Methods \n",
    "* Oluşturduğumuz class'larda bazı değişkenleri (attribute) kullanarak hesaplamalar veya bilgi dönüşleri yapmak isteyebiliriz."
   ]
  },
  {
   "cell_type": "code",
   "execution_count": null,
   "metadata": {},
   "outputs": [],
   "source": [
    "# Örnek 1\n",
    "class Person():\n",
    "    def __init__(self, name, year):\n",
    "        self.name = name\n",
    "        self.year = year\n",
    "\n",
    "    def introduce_yourself(self):\n",
    "        return f\"My name is {self.name} and I was born in {self.year}\"\n",
    "\n",
    "    def retirement(self):\n",
    "        return 2022 - self.year\n",
    "\n",
    "person1 = Person('Mahmut', 1998)\n",
    "print(person1.retirement())\n",
    "print(person1.introduce_yourself())\n"
   ]
  },
  {
   "cell_type": "code",
   "execution_count": null,
   "metadata": {},
   "outputs": [],
   "source": [
    "# Örnek 2\n",
    "class Circle():\n",
    "    pi = 3.14\n",
    "\n",
    "    def __init__(self, radius = 1):\n",
    "        self.radius = radius\n",
    "\n",
    "    def area(self):\n",
    "        return (self.radius ** 2) * Circle.pi    \n",
    "    def circumference(self):\n",
    "        return 2 * self.pi * self.radius\n",
    "\n",
    "circle1 = Circle(3)\n",
    "circle2 = Circle(7)\n",
    "\n",
    "print([circle1.area(), circle1.circumference()])\n",
    "print([circle2.area(), circle2.circumference()])"
   ]
  },
  {
   "cell_type": "markdown",
   "metadata": {},
   "source": [
    "#### ▶️ Inheritance \n",
    "\n",
    "* Inheritance yani kalıtım, OOP programlamada bir class'a atanan özelliklerin, aynı class'a atanan başka class'lar tarafından erişebilmesidir.\n",
    "* İlk tanımladığımız class'a Parent ya da Super Class adını verebiliriz, parent class'ımızın özelliklerini kullanabilen class'lara ise Sub Class ya da Child Class denir.\n",
    "* Parent ve child class'ların arasında bağlantı olmalıdır. Örneğin Araba adında tanımladığımız bir Parent Class'a Ağaç adında bir Child Class tanımlamak mantıksızdır (temel konu bakımından)."
   ]
  },
  {
   "cell_type": "code",
   "execution_count": null,
   "metadata": {},
   "outputs": [],
   "source": [
    "class Seyahat():\n",
    "    sirket = \"Python Turizm\"\n",
    "\n",
    "    def __init__(self, yolcu_sayisi, bilet_sayisi):\n",
    "        self.yolcu_sayisi = yolcu_sayisi\n",
    "        self.bilet_sayisi = bilet_sayisi\n",
    "\n",
    "    def kalan_bilet(self):\n",
    "        return self.bilet_sayisi - self.yolcu_sayisi            \n"
   ]
  },
  {
   "cell_type": "markdown",
   "metadata": {},
   "source": [
    "* Yukarında ki örnekte Seyahat isimli bir Class oluşturduk. Bir yolculukta olabilecek çeşitli değişkenler tanımladık. Sabit değişken olarak da şirket adı verdik. Ancak bu şirketin birden fazla ulaştırma yöntemi olabilir. Örneğin uçka, otobüs, tren, vapur vb... Fakat hepsinde ortak bir özellik var ki o da Parent Class'ımıza tanımladığımız değişkenler ve methodlar. Bu tanımlamalar her biri geçerli fakat yolculuk süresine göre farklılık gösterebilir. Her yolculuk türünün bir kapasitesi ve satılan bilet miktarı vardır, bunların sayısı her biri için farklılık gösterebilir fakat hepsi için ortak bir özelliktir. Bu yüzden birbirinden ayıran özellikleri Child Class'larımızda tanımlıyoruz. Örneğin otobüslerde durak kavramı vardır, uçaklarda ise aktarmalı veya aktarmasız gibi seçenekler vardır. Otobüsler tek tip biletler içerirken, uçaklar da ekonomi ve birinci sınıf gibi ayrımlar vardır.\n"
   ]
  },
  {
   "cell_type": "code",
   "execution_count": null,
   "metadata": {},
   "outputs": [],
   "source": [
    "# Örnek 1\n",
    "\n",
    "class Otobus(Seyahat):\n",
    "    def __init__(self, yolcu_sayisi, bilet_sayisi, durak_sayisi):\n",
    "        super().__init__(yolcu_sayisi, bilet_sayisi)\n",
    "        self.durak_sayisi = durak_sayisi\n",
    "     \n",
    "\n",
    "class Ucak(Seyahat):\n",
    "    def __init__(self, yolcu_sayisi, bilet_sayisi, aktarma= False, sinif='Ekonomi'):\n",
    "        super().__init__(yolcu_sayisi, bilet_sayisi)\n",
    "        self.aktarma = aktarma\n",
    "        self.sinif = sinif\n",
    "\n",
    "    def aktarma_var_mi(self):\n",
    "        if self.aktarma:\n",
    "            return \"aktarmasızdır\"\n",
    "        else:\n",
    "            return \"aktarmalıdır\"\n",
    "\n",
    "    def sinif_bilgisi(self):\n",
    "        return f\"{self.sinif}\"   \n",
    "\n",
    "    def tum_bilgiler(self):\n",
    "        return f\"Koltuk seçiminiz {self.sinif_bilgisi()} sınıfındadır, uçağımız {self.aktarma_var_mi()}\"             \n",
    "        \n",
    "\n",
    "\n",
    "tur1 = Otobus(10, 100, 2) # 10 yolcu, 100 bilet\n",
    "\n",
    "print(tur1.kalan_bilet())\n",
    "print(\"------------\")\n",
    "ucak1 = Ucak(150,250, True, 'Businness') # 150 yolcu, 250 bilet\n",
    "ucak2 = Ucak(150,250, False, 'Ekonomi') # 150 yolcu, 250 bilet\n",
    "print(ucak1.tum_bilgiler() )\n",
    "print(ucak2.tum_bilgiler() )"
   ]
  },
  {
   "cell_type": "code",
   "execution_count": 32,
   "metadata": {},
   "outputs": [
    {
     "name": "stdout",
     "output_type": "stream",
     "text": [
      "Hi, my name is Mahmut. I'm 24 and i'm a Student. I'll graduate in 26.\n"
     ]
    }
   ],
   "source": [
    "# Örnek 2\n",
    "\n",
    "class Person():\n",
    "    def __init__(self, name, year, job):\n",
    "        self.name = name\n",
    "        self.year = year\n",
    "        self.job = job\n",
    "\n",
    "    def calculate_age(self):\n",
    "        return 2022 - self.year\n",
    "\n",
    "    def introduce_yourself(self):\n",
    "        return f\"Hi, my name is {self.name}. I'm {self.calculate_age()} and i'm a {self.job}\"        \n",
    "\n",
    "class Student(Person):\n",
    "\n",
    "    def __init__(self, name, year, job, graduation_year, note_average):\n",
    "        super().__init__(name, year, job)\n",
    "        self.graduation_year = graduation_year\n",
    "        self.note_average = note_average\n",
    "\n",
    "    def calculate_graduation_age(self):\n",
    "        return (self.graduation_year - 2022) + self.calculate_age()\n",
    "\n",
    "    def introduce_yourself(self):\n",
    "        return f\"Hi, my name is {self.name}. I'm {self.calculate_age()} and i'm a {self.job}. I'll graduate in {self.calculate_graduation_age()}.\"    \n",
    "\n",
    "user1 = Student('Mahmut', 1998, 'Student', 2024, 3.5)\n",
    "\n",
    "print(user1.introduce_yourself())"
   ]
  },
  {
   "cell_type": "code",
   "execution_count": 35,
   "metadata": {},
   "outputs": [
    {
     "ename": "TypeError",
     "evalue": "Me.__init__() missing 1 required positional argument: 'age'",
     "output_type": "error",
     "traceback": [
      "\u001b[1;31m---------------------------------------------------------------------------\u001b[0m",
      "\u001b[1;31mTypeError\u001b[0m                                 Traceback (most recent call last)",
      "\u001b[1;32mc:\\Users\\mahmu\\Desktop\\python\\cheatsheet\\05 - OOP.ipynb Cell 17'\u001b[0m in \u001b[0;36m<cell line: 11>\u001b[1;34m()\u001b[0m\n\u001b[0;32m      <a href='vscode-notebook-cell:/c%3A/Users/mahmu/Desktop/python/cheatsheet/05%20-%20OOP.ipynb#ch0000027?line=8'>9</a>\u001b[0m user1 \u001b[39m=\u001b[39m Me(\u001b[39m'\u001b[39m\u001b[39mMahmut\u001b[39m\u001b[39m'\u001b[39m, \u001b[39m20\u001b[39m)\n\u001b[0;32m     <a href='vscode-notebook-cell:/c%3A/Users/mahmu/Desktop/python/cheatsheet/05%20-%20OOP.ipynb#ch0000027?line=9'>10</a>\u001b[0m user2 \u001b[39m=\u001b[39m Me(name\u001b[39m=\u001b[39m\u001b[39m\"\u001b[39m\u001b[39mMahmut\u001b[39m\u001b[39m\"\u001b[39m, age\u001b[39m=\u001b[39m\u001b[39m20\u001b[39m)   \n\u001b[1;32m---> <a href='vscode-notebook-cell:/c%3A/Users/mahmu/Desktop/python/cheatsheet/05%20-%20OOP.ipynb#ch0000027?line=10'>11</a>\u001b[0m user3 \u001b[39m=\u001b[39m Me({\u001b[39m'\u001b[39;49m\u001b[39mname\u001b[39;49m\u001b[39m'\u001b[39;49m:\u001b[39m'\u001b[39;49m\u001b[39mMahmut\u001b[39;49m\u001b[39m'\u001b[39;49m, \u001b[39m'\u001b[39;49m\u001b[39mage\u001b[39;49m\u001b[39m'\u001b[39;49m:\u001b[39m20\u001b[39;49m})  \n\u001b[0;32m     <a href='vscode-notebook-cell:/c%3A/Users/mahmu/Desktop/python/cheatsheet/05%20-%20OOP.ipynb#ch0000027?line=11'>12</a>\u001b[0m \u001b[39mprint\u001b[39m(user3\u001b[39m.\u001b[39mmy_info())\n",
      "\u001b[1;31mTypeError\u001b[0m: Me.__init__() missing 1 required positional argument: 'age'"
     ]
    }
   ],
   "source": [
    "class Me():\n",
    "    def __init__(self, **kwargs):\n",
    "        self.name = kwargs.get('name')\n",
    "        self.age = kwargs.get('age')\n",
    "\n",
    "\n",
    "    def my_info(self):\n",
    "        return dict(name=self.name, age=self.age)\n",
    "\n",
    "user1 = Me('Mahmut', 20)\n",
    "user2 = Me(name=\"Mahmut\", age=20)   \n",
    "user3 = Me({'name':'Mahmut', 'age':20})  \n",
    "print(user3.my_info())"
   ]
  },
  {
   "cell_type": "code",
   "execution_count": null,
   "metadata": {},
   "outputs": [],
   "source": []
  }
 ],
 "metadata": {
  "interpreter": {
   "hash": "57ef28c43a83a86da422f2ca874807688a7f4cb3bf547c67a694492636133cae"
  },
  "kernelspec": {
   "display_name": "Python 3.10.4 64-bit",
   "language": "python",
   "name": "python3"
  },
  "language_info": {
   "codemirror_mode": {
    "name": "ipython",
    "version": 3
   },
   "file_extension": ".py",
   "mimetype": "text/x-python",
   "name": "python",
   "nbconvert_exporter": "python",
   "pygments_lexer": "ipython3",
   "version": "3.10.4"
  },
  "orig_nbformat": 4
 },
 "nbformat": 4,
 "nbformat_minor": 2
}
