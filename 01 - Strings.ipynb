{
 "cells": [
  {
   "cell_type": "markdown",
   "metadata": {},
   "source": [
    "# Strings\n",
    "<hr style=\"color:deeppink\">\n",
    "\n",
    "**Genel Özellikler**\n",
    "\n",
    "* String ifadeler tanımlandıktan sonra değiştirilemez. **Immutable**'dır\n",
    "\n",
    "\n",
    "\n"
   ]
  },
  {
   "cell_type": "markdown",
   "metadata": {},
   "source": [
    "## String Methods\n",
    "<hr style=\"color:deeppink\">\n",
    "\n",
    "#### ▶️ Escaping Characters (\\\\)\n",
    "* Backslash karakteri string ifadelerde özel karakterler kullanmayı sağlar.\n",
    "* Temelde 3 şekilde kullanılabilir.\n",
    "1. Tırnak işareti kullanmak için.\n",
    "2. Tab (4 boşluk) bırakmak için.\n",
    "3. Metni alt satıra geçirebilmek için.\n"
   ]
  },
  {
   "cell_type": "code",
   "execution_count": null,
   "metadata": {},
   "outputs": [],
   "source": [
    "txt = \"She said \\\"Never let go\\\".\"\n",
    "print(txt)"
   ]
  },
  {
   "cell_type": "code",
   "execution_count": null,
   "metadata": {},
   "outputs": [],
   "source": [
    "txt2 = 'Burada 4 \\t boşluk var'\n",
    "print(txt2)"
   ]
  },
  {
   "cell_type": "code",
   "execution_count": null,
   "metadata": {},
   "outputs": [],
   "source": [
    "txt3 = 'Bu üst satır, \\nbu alt satır'\n",
    "print(txt3)"
   ]
  },
  {
   "cell_type": "markdown",
   "metadata": {},
   "source": [
    "#### ▶️ in Syntax\n",
    "* String içinde belirtilen ifadenin olup olmama durumu kontrol eder. Cevap bool türündedir."
   ]
  },
  {
   "cell_type": "code",
   "execution_count": null,
   "metadata": {},
   "outputs": [],
   "source": [
    "game = \"Popular Nintendo Game: Mario Kart\"\n",
    "\n",
    "result = 'l' in game\n",
    "print(result)"
   ]
  },
  {
   "cell_type": "markdown",
   "metadata": {},
   "source": [
    "#### ▶️ Slicing (Dilimleme) - Indexing - slice()\n",
    "\n",
    "* Slicing, string ifadelerin belirli bir kısmını kesmeyi sağlar.\n",
    "* Slicing iki farklı şekilde yapılabilir.\n",
    "* Indexing, string ifadeler belirli bir sıradaki elemanı almayı sağlar."
   ]
  },
  {
   "cell_type": "code",
   "execution_count": null,
   "metadata": {},
   "outputs": [],
   "source": [
    "color = 'orangered'\n",
    "\n",
    "color[1]     # => 'r'\n",
    "color[-1]    # => 'd'\n",
    "color[4:6]   # => 'ge'\n",
    "color[:4]    # => 'oran'\n",
    "color[-3:]   # => 'red'"
   ]
  },
  {
   "cell_type": "markdown",
   "metadata": {},
   "source": [
    "#### ▶️ Iteration in strings\n",
    "\n",
    "* String ifadelerde for..in döngüsü kullanarak ifadenin elemanlarını tek tek dönmeyi sağlar."
   ]
  },
  {
   "cell_type": "code",
   "execution_count": null,
   "metadata": {},
   "outputs": [],
   "source": [
    "word = 'hello'\n",
    "\n",
    "for c in word:\n",
    "    print(c)"
   ]
  },
  {
   "cell_type": "markdown",
   "metadata": {},
   "source": [
    "\n",
    "#### ▶️ len() function\n",
    "\n",
    "* String ifadelerin karakter sayısını bulmayı sağlar, boşluklar da dahil edilir."
   ]
  },
  {
   "cell_type": "code",
   "execution_count": null,
   "metadata": {},
   "outputs": [],
   "source": [
    "\n",
    "length = len(\"Hello\")\n",
    "print(length)\n"
   ]
  },
  {
   "cell_type": "markdown",
   "metadata": {},
   "source": [
    "#### ▶️ String Concatenation\n",
    "\n",
    "* String ifadeleri birleştirmeyi sağlar. "
   ]
  },
  {
   "cell_type": "code",
   "execution_count": null,
   "metadata": {},
   "outputs": [],
   "source": [
    "x = 'One fish, '\n",
    "y = 'two fish.'\n",
    " \n",
    "z = x + y\n",
    "print(z)"
   ]
  },
  {
   "cell_type": "markdown",
   "metadata": {},
   "source": [
    "#### ▶️ IndexError\n",
    "\n",
    "* String ifadenin uzunluğundan fazla bir değere indexing yaparsak IndexError hatası alırız.\n"
   ]
  },
  {
   "cell_type": "code",
   "execution_count": null,
   "metadata": {},
   "outputs": [],
   "source": [
    "fruit = 'orange'\n",
    "indx = fruit[10]\n",
    "\n",
    "print(indx)"
   ]
  },
  {
   "cell_type": "markdown",
   "metadata": {},
   "source": [
    "#### ▶️ find()\n",
    "\n",
    "* String ifadeler içinde isteden bir karakterin indexini bulmak için kullanılır.\n",
    "* Büyük/küçük harf duyarlılığı vardır.\n",
    "* Eğer ifade içinde aranan sonuç yoksa sonuç -1 döner"
   ]
  },
  {
   "cell_type": "code",
   "execution_count": null,
   "metadata": {},
   "outputs": [],
   "source": [
    "country = 'Türkiye Cumhuriyeti'\n",
    "\n",
    "country.find('c')"
   ]
  },
  {
   "cell_type": "markdown",
   "metadata": {},
   "source": [
    "#### ▶️ replace()\n",
    "\n",
    "* String bir ifadedeki bir karakteri başka bir karakter ile değiştirmek için kullanılır."
   ]
  },
  {
   "cell_type": "code",
   "execution_count": null,
   "metadata": {},
   "outputs": [],
   "source": [
    "fruit = \"Strawberry\"\n",
    "print(fruit.replace('r', 'R'))"
   ]
  },
  {
   "cell_type": "markdown",
   "metadata": {},
   "source": [
    "#### ▶️ upper() - lower() - title()\n",
    "\n",
    "* upper() String ifadedeki tüm karakterleri büyük harfe çevirir.\n",
    "* lower() String ifadedeki tüm karakterleri küçük harfe çevirir.\n",
    "* title() String ifadedeki her kelimenin ilk harfini büyük harfe çevirir."
   ]
  },
  {
   "cell_type": "code",
   "execution_count": null,
   "metadata": {},
   "outputs": [],
   "source": [
    "str1 = 'selam'\n",
    "str1.upper() # 'SELAM'\n",
    "\n",
    "str2 = 'SELAM'\n",
    "str2.lower() # 'selam'\n",
    "\n",
    "str3 = 'selam naber Hey'\n",
    "str3.title() # 'Selam Naber Hey'"
   ]
  },
  {
   "cell_type": "markdown",
   "metadata": {},
   "source": [
    "#### ▶️ format()\n",
    "* String ifade içine değişken göndermeyi sağlar."
   ]
  },
  {
   "cell_type": "code",
   "execution_count": null,
   "metadata": {},
   "outputs": [],
   "source": [
    "\n",
    "msg1 = 'Fred scored {} out of {} points.'\n",
    "msg1.format(3, 10)\n",
    "# => 'Fred scored 3 out of 10 points.'\n",
    " \n",
    "msg2 = 'Fred {verb} a {adjective} {noun}.'\n",
    "msg2.format(adjective='fluffy', verb='tickled', noun='hamster')\n",
    "# => 'Fred tickled a fluffy hamster.'"
   ]
  },
  {
   "cell_type": "markdown",
   "metadata": {},
   "source": [
    "#### ▶️ strip()\n",
    "\n",
    "* String ifadenin başındaki ve sonundaki boşlukları veya belirtilen özel karakterleri siler."
   ]
  },
  {
   "cell_type": "code",
   "execution_count": null,
   "metadata": {},
   "outputs": [],
   "source": [
    "\n",
    "text1 = '   apples and oranges   '\n",
    "text1.strip()       # => 'apples and oranges'\n",
    " \n",
    "text2 = '...+...lemons and limes...-...'\n",
    " \n",
    "# Here we strip just the \".\" characters\n",
    "text2.strip('.')    # => '+...lemons and limes...-'\n",
    " \n",
    "# Here we strip both \".\" and \"+\" characters\n",
    "text2.strip('.+')   # => 'lemons and limes...-'\n",
    " \n",
    "# Here we strip \".\", \"+\", and \"-\" characters\n",
    "text2.strip('.+-')  # => 'lemons and limes'"
   ]
  },
  {
   "cell_type": "markdown",
   "metadata": {},
   "source": [
    "#### ▶️ split() method\n",
    "\n",
    "* String ifadedeki kelimeleri birbirinden ayırıp bir list dizesine ekler.\n",
    "* Herhangi bir özel karakter belirtilmemişse boşluklardan ayırır."
   ]
  },
  {
   "cell_type": "code",
   "execution_count": null,
   "metadata": {},
   "outputs": [],
   "source": [
    "\n",
    "text = \"Silicon Valley\"\n",
    " \n",
    "print(text.split())     \n",
    "# Prints: ['Silicon', 'Valley']\n",
    " \n",
    "print(text.split('i'))  \n",
    "# Prints: ['S', 'l', 'con Valley']"
   ]
  },
  {
   "cell_type": "markdown",
   "metadata": {},
   "source": [
    "#### ▶️ join()\n",
    "\n",
    "* Bir list dizesindeki elemanları birleştirip string haline getirir.\n",
    "* Özel bir karakter belirtilmemişse aralara boşluk ekler."
   ]
  },
  {
   "cell_type": "code",
   "execution_count": null,
   "metadata": {},
   "outputs": [],
   "source": [
    "\n",
    "x = \"-\".join([\"Codecademy\", \"is\", \"awesome\"])\n",
    " \n",
    "print(x) \n",
    "# Prints: Codecademy-is-awesome"
   ]
  },
  {
   "cell_type": "markdown",
   "metadata": {},
   "source": [
    "#### ▶️ Concatenation Rules\n",
    "\n",
    "* Birden fazla string ifade '+' operatörü ile birleştirilip tek bir string ifadeye dönüştürülebilir.\n",
    "* Eğer birleştirilmeye çalışılan ifade string tipinde değilse hata verir. Bu ifadenin tip dönüşümü ile string hale getirilerek birleştirilmesi gerekir."
   ]
  },
  {
   "cell_type": "code",
   "execution_count": null,
   "metadata": {},
   "outputs": [],
   "source": [
    "name = 'John'\n",
    "surname = 'Doe'\n",
    "age = 36\n",
    "\n",
    "txt ='My name is '+ name + surname + ' I\"m ' + str(age) + ' years old.' \n",
    "print(txt)\n"
   ]
  },
  {
   "cell_type": "markdown",
   "metadata": {},
   "source": [
    "#### ▶️ fString method\n",
    "\n",
    "* String ifadeler içerisinde değişken kullanmamızı sağlar.\n",
    "* format() methodundan farklı olarak değişkenlerimizi doğrudan içine yazabiliriz. Fonksiyon ile göndermemize gerek yoktur."
   ]
  },
  {
   "cell_type": "code",
   "execution_count": null,
   "metadata": {},
   "outputs": [],
   "source": [
    "user1 = 'Ali'\n",
    "user2 = 'Ahmet'\n",
    "\n",
    "txt = f\" {user1} ve {user2} oyun oynadı.\"\n",
    "print(txt)"
   ]
  },
  {
   "cell_type": "markdown",
   "metadata": {},
   "source": [
    "#### ▶️ count() method\n",
    "* Bir string ifadede aranan değerin kaç defa olduğunu belirtir.\n",
    "* Karakterler büyük/küçük harfe duyarlıdır."
   ]
  },
  {
   "cell_type": "code",
   "execution_count": null,
   "metadata": {},
   "outputs": [],
   "source": [
    "txt = 'Selam bugün nasılsın'\n",
    "\n",
    "cou = txt.count('s')\n",
    "print(cou)"
   ]
  },
  {
   "cell_type": "markdown",
   "metadata": {},
   "source": [
    "#### ▶️ startswith() - endswith()\n",
    "* Bir string ifadenin belirtilen karakter ile başladığını yada bittiğini kontrol eder.\n",
    "* Sonuç bool türünde döner\n"
   ]
  },
  {
   "cell_type": "code",
   "execution_count": null,
   "metadata": {},
   "outputs": [],
   "source": [
    "site = 'www.mahmutserdariset.com'\n",
    "\n",
    "start = site.startswith('www')\n",
    "end = site.endswith('com')\n",
    "print(start)\n",
    "print(end)"
   ]
  },
  {
   "cell_type": "markdown",
   "metadata": {},
   "source": [
    "#### ▶️ isalpha() - isdigit()\n",
    "\n",
    "* isalpha() String ifadedeki tüm karakterlerin alfabetik olup olmama durumunu kontrol eder.\n",
    "* isdigit() String ifadedeki tüm karakterlerin rakam olup olmama durumunu kontrol eder."
   ]
  },
  {
   "cell_type": "code",
   "execution_count": null,
   "metadata": {},
   "outputs": [],
   "source": [
    "txt = 'Selam naber'\n",
    "digital = '50230'\n",
    "\n",
    "\n",
    "print(digital.isdigit())\n",
    "print(txt.isalpha())"
   ]
  }
 ],
 "metadata": {
  "interpreter": {
   "hash": "57ef28c43a83a86da422f2ca874807688a7f4cb3bf547c67a694492636133cae"
  },
  "kernelspec": {
   "display_name": "Python 3.10.4 64-bit",
   "language": "python",
   "name": "python3"
  },
  "language_info": {
   "codemirror_mode": {
    "name": "ipython",
    "version": 3
   },
   "file_extension": ".py",
   "mimetype": "text/x-python",
   "name": "python",
   "nbconvert_exporter": "python",
   "pygments_lexer": "ipython3",
   "version": "3.10.4"
  },
  "orig_nbformat": 4
 },
 "nbformat": 4,
 "nbformat_minor": 2
}
