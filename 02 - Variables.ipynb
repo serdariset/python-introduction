{
 "cells": [
  {
   "cell_type": "markdown",
   "metadata": {},
   "source": [
    "# Variables and Data Types\n",
    "<hr style=\"color:deeppink\">"
   ]
  },
  {
   "cell_type": "markdown",
   "metadata": {},
   "source": [
    "\n",
    "\n",
    "\n",
    "**Genel Özellikler**\n",
    "\n",
    "* Python'da değişken atamak için '=' operatörü kullanılır.\n",
    "* Değişken isimleri yalnıza harfler, sayılar ve underscore('_')'dan oluşabilir.\n",
    "\n",
    "\n",
    "## Data Types\n",
    "<hr style=\"color:deeppink\">\n"
   ]
  },
  {
   "cell_type": "markdown",
   "metadata": {},
   "source": [
    "#### ▶️ Strings - str\n",
    "* İki tırnak işareti arasında kalan her ifade str tipindedir."
   ]
  },
  {
   "cell_type": "code",
   "execution_count": null,
   "metadata": {},
   "outputs": [],
   "source": [
    "string = 'Selam naber'\n",
    "print(type(string))\n"
   ]
  },
  {
   "cell_type": "markdown",
   "metadata": {},
   "source": [
    "#### ▶️ Integer - int\n",
    "* Tam sayı biçimindeki veri tipleridir.\n",
    "* Bir sayı ifadesinin içinde '.' varsa bu verinin tipi integer olmaz."
   ]
  },
  {
   "cell_type": "code",
   "execution_count": null,
   "metadata": {},
   "outputs": [],
   "source": [
    "integer = 3\n",
    "print(type(integer))"
   ]
  },
  {
   "cell_type": "markdown",
   "metadata": {},
   "source": [
    "#### ▶️ Float - float\n",
    "* Ondalıklı sayı biçimindeki veri tipleridir.\n",
    "* Bir sayı içinde '.' ifadesi varsa float veri tipindedir."
   ]
  },
  {
   "cell_type": "code",
   "execution_count": null,
   "metadata": {},
   "outputs": [],
   "source": [
    "flt = 15.0\n",
    "print(type(flt))"
   ]
  },
  {
   "cell_type": "markdown",
   "metadata": {},
   "source": [
    "#### ▶️ Boolean - bool\n",
    "* Doğru veya yanlışı ifade eden veri tipleridir.\n",
    "* True / False değerlerinden oluşur."
   ]
  },
  {
   "cell_type": "code",
   "execution_count": null,
   "metadata": {},
   "outputs": [],
   "source": [
    "boolean = True\n",
    "print(type(boolean))"
   ]
  },
  {
   "cell_type": "markdown",
   "metadata": {},
   "source": [
    "\n",
    "## Type Casting\n",
    "<hr style=\"color:deeppink\">\n",
    "\n",
    "* Bir veri tipini başka bir veri tipine dönüştürmek için kullanılan metottur.\n",
    "\n"
   ]
  },
  {
   "cell_type": "code",
   "execution_count": null,
   "metadata": {},
   "outputs": [],
   "source": [
    "x = 3\n",
    "\n",
    "print(str(x)) # '3'\n",
    "print(int(x)) # 3\n",
    "print(float(x)) # 3.0"
   ]
  },
  {
   "cell_type": "markdown",
   "metadata": {},
   "source": [
    "* Bir float veri tipini int veri tipine çevirirken ondalıklı kısım **yuvarlanmaz**, tam kısım alınır."
   ]
  },
  {
   "cell_type": "code",
   "execution_count": null,
   "metadata": {},
   "outputs": [],
   "source": [
    "float1 = 17.7\n",
    "float2 = 17.4\n",
    "print(int(float1), int(float2))"
   ]
  },
  {
   "cell_type": "markdown",
   "metadata": {},
   "source": [
    "\n",
    "#### ▶️ type()\n",
    "* Bir değişkenin tipini öğrenmek için kullanılır."
   ]
  },
  {
   "cell_type": "code",
   "execution_count": null,
   "metadata": {},
   "outputs": [],
   "source": [
    "x = 3\n",
    "y = 'Ali'\n",
    "z = 3.0\n",
    "\n",
    "print(type(x))\n",
    "print(type(y))\n",
    "print(type(z))"
   ]
  },
  {
   "cell_type": "markdown",
   "metadata": {},
   "source": [
    "\n",
    "# Collections (Arrays) / List - Tuple - Set - Dictionary\n",
    "<hr style=\"color:deeppink\">"
   ]
  },
  {
   "cell_type": "markdown",
   "metadata": {},
   "source": [
    "## Collections Table\n",
    "Array | Indexing | Ordered | Mutable | Duplicate |\n",
    "----- | -------- | ------- | ------- | --------- |\n",
    "List  |    ✅   | ✅|✅|✅|\n",
    "Tuple |✅|✅|❌|✅\n",
    "Set   |❌|❌|✅|❌|\n",
    "Dict  |❌|✅|✅|❌|\n",
    "\n",
    "* Indexing: Index numarası belirterek eleman ulaşmak.\n",
    "* Ordered: Sıralanabilirlik(sort) durumu.\n",
    "* Mutable: Elemanlarının değiştirilebilirlik durumu.\n",
    "* Duplicate: Aynı eleman birden fazla kez tekrar etme durumu."
   ]
  },
  {
   "cell_type": "markdown",
   "metadata": {},
   "source": [
    "## List [ ]\n",
    "* Sıralanabilir.\n",
    "* Güncellenebilir.\n",
    "* Aynı eleman birden fazla kes yazılabilir."
   ]
  },
  {
   "cell_type": "code",
   "execution_count": null,
   "metadata": {},
   "outputs": [],
   "source": [
    "lis = [1,2,3,4,3,2,5,10]\n",
    "lis[0] = 20 # güncellemek\n",
    "lis.sort() # sıralamak\n",
    "print(lis)"
   ]
  },
  {
   "cell_type": "markdown",
   "metadata": {},
   "source": [
    "### List Methods ###\n",
    "<hr style=\"color:deeppink\">"
   ]
  },
  {
   "cell_type": "markdown",
   "metadata": {},
   "source": [
    "\n",
    "#### ▶️ remove()\n",
    "* List veri tiplerinden bir elemanı silmek için kullanılır.\n",
    "* Aynı eleman birden fazla ise ilkini siler."
   ]
  },
  {
   "cell_type": "code",
   "execution_count": null,
   "metadata": {},
   "outputs": [],
   "source": [
    "liste = [\"banana\", \"grape\", \"cherry\"]\n",
    "liste.remove(\"grape\")\n",
    "print(liste) # [\"banana\",\"cherry\"]"
   ]
  },
  {
   "cell_type": "markdown",
   "metadata": {},
   "source": [
    "#### ▶️ pop()\n",
    "\n",
    "* Listedeki belirli bir indexteki elemanı silmek için kullanılır.\n",
    "* Eğer herhangi bir index belirtilmeze son elemanı siler.\n",
    "* Silinen elemanı geri döndürür."
   ]
  },
  {
   "cell_type": "code",
   "execution_count": null,
   "metadata": {},
   "outputs": [],
   "source": [
    "liste = [\"banana\", \"grape\", \"cherry\"]\n",
    "print(liste.pop(1) ) # grape"
   ]
  },
  {
   "cell_type": "markdown",
   "metadata": {},
   "source": [
    "#### ▶️ del \n",
    "* del methodu ile herhangi bir indexteki elemanı silebiliriz.\n",
    "* Bir index belirtilmemiş ise list elemanının kendisini siler.\n"
   ]
  },
  {
   "cell_type": "code",
   "execution_count": null,
   "metadata": {},
   "outputs": [],
   "source": [
    "liste = [\"banana\", \"grape\", \"cherry\"] \n",
    "del liste[2]\n",
    "print(liste) # [\"banana\", \"grape\"]\n",
    "\n",
    "liste = [\"banana\", \"grape\", \"cherry\"] \n",
    "del liste\n",
    "print(liste) # NameError: name 'list' is not defined"
   ]
  },
  {
   "cell_type": "markdown",
   "metadata": {},
   "source": [
    "#### ▶️ clear() \n",
    "* List dizesinin içindeki tüm elemanları silmek için kullanılır."
   ]
  },
  {
   "cell_type": "code",
   "execution_count": null,
   "metadata": {},
   "outputs": [],
   "source": [
    "liste = [\"banana\", \"grape\", \"cherry\"] \n",
    "liste.clear()\n",
    "print(liste) # []"
   ]
  },
  {
   "cell_type": "markdown",
   "metadata": {},
   "source": [
    "\n",
    "#### ▶️ sort()\n",
    "* sort() list'lerde sıralama yapmak için kullanılır.\n",
    "* sort() işlemi sıralanan yeni değeri eskisinin üzerine yazar.\n",
    "* Sıralama işlemi rakamsal değere göre veya alfabetik index değerine göre küçükten büyüğe gerçekleşir.\n",
    "* reverse=True parametresi ile büyükten küçüğe yazdırılabilir."
   ]
  },
  {
   "cell_type": "code",
   "execution_count": null,
   "metadata": {},
   "outputs": [],
   "source": [
    "numbers = [1, 10, 5, 16, 4, 9, 10]\n",
    "numbers.sort()\n",
    "numbers.sort(reverse=True)\n",
    "print(numbers)\n"
   ]
  },
  {
   "cell_type": "markdown",
   "metadata": {},
   "source": [
    "#### ▶️ reverse()\n",
    "* Bir list dizesindeki elemanları tersten yazdırır.\n",
    "* Bu işlem orjinal listeyi günceller."
   ]
  },
  {
   "cell_type": "code",
   "execution_count": null,
   "metadata": {},
   "outputs": [],
   "source": [
    "numbers = [1, 10, 5]\n",
    "letters = ['a', 'g', 's']\n",
    "\n",
    "numbers.reverse()  # [5, 10, 1]\n",
    "letters.reverse()  # ['s', 'g', 'a']\n",
    "print(numbers)"
   ]
  },
  {
   "cell_type": "markdown",
   "metadata": {},
   "source": [
    "#### ▶️ min() - max()\n",
    "* min() listedeki en küçük değeri döndürür.\n",
    "* max() listedeki en büyük değeri döndürür."
   ]
  },
  {
   "cell_type": "code",
   "execution_count": null,
   "metadata": {},
   "outputs": [],
   "source": [
    "numbers = [1, 10, 5, 16, 4, 9, 10]\n",
    "letters = ['a', 'g', 's', 'b', 'y', 'a', 's']\n",
    "\n",
    "min(numbers) # 1\n",
    "max(numbers) # 16\n",
    "max(letters) # y\n",
    "min(letters) # a"
   ]
  },
  {
   "cell_type": "markdown",
   "metadata": {},
   "source": [
    "#### ▶️ count()\n",
    "* Stringlerde olduğu gibi listelerde de aynı elemanın kaç defa olduğunu söyler."
   ]
  },
  {
   "cell_type": "code",
   "execution_count": null,
   "metadata": {},
   "outputs": [],
   "source": [
    "numbers = [1, 10, 5, 16, 4, 9, 10]\n",
    "letters = ['a', 'g', 's', 'b', 'y', 'a', 's']\n",
    "numbers.count(10)  # 2\n",
    "letters.count('a') # 2"
   ]
  },
  {
   "cell_type": "markdown",
   "metadata": {},
   "source": [
    "#### ▶️ append()\n",
    "* List dizesinin sonuna eleman ekler."
   ]
  },
  {
   "cell_type": "code",
   "execution_count": null,
   "metadata": {},
   "outputs": [],
   "source": [
    "names = ['Ali','Yağmur','Hakan','Deniz']\n",
    "names.append('Cenk')"
   ]
  },
  {
   "cell_type": "markdown",
   "metadata": {},
   "source": [
    "#### ▶️ insert()\n",
    "* Listenin belirli bir indexine bir eleman ekler. Diğer elemanları sağa kaydırır."
   ]
  },
  {
   "cell_type": "code",
   "execution_count": null,
   "metadata": {},
   "outputs": [],
   "source": [
    "names = ['Ali','Yağmur','Hakan','Deniz']\n",
    "names.insert(0, 'Sena')\n",
    "print(names)"
   ]
  },
  {
   "cell_type": "markdown",
   "metadata": {},
   "source": [
    "### List Copy - Alliasing\n",
    "<hr style=\"color:deeppink\">"
   ]
  },
  {
   "cell_type": "markdown",
   "metadata": {},
   "source": [
    "#### ▶️ copiying\n",
    "* List bir class ve bellekte referans tip olarak ele alınır dolayısıyla bir listeyi başka bir listeye atamak istediğimizde liste elamanları kopyalanmaz bunun yerine listenin bellekteki adres bilgisi kopyalanır.\n",
    "* Atama yapılarak kopyalanan list değişkenlerinin birine yapılan güncelleme diğerlerine de etki eder. Bu duruma **alliasing** denir."
   ]
  },
  {
   "cell_type": "code",
   "execution_count": null,
   "metadata": {},
   "outputs": [],
   "source": [
    "a = [\"car\",\"phone\"]\n",
    "b = [\"grape\",\"cherry\"]\n",
    "a = b\n",
    "b[0] = \"updated\"\n",
    "print(a, b)    # çıktı: ['updated', 'cherry'] ['updated', 'cherry']"
   ]
  },
  {
   "cell_type": "markdown",
   "metadata": {},
   "source": [
    "\n",
    "#### ▶️ copy() \n",
    "* **Alliasing** durumunun önüne geçmek için copy() methodu kullanılabilir.\n",
    "* Bu method ile tanımlanan değişkene aynı değerlere sahip başka bir referans değeri tanımlanır. Değişklikler birbirini etkilemez."
   ]
  },
  {
   "cell_type": "code",
   "execution_count": null,
   "metadata": {},
   "outputs": [],
   "source": [
    "a = [\"apple\",\"banana\"]\n",
    "b = [\"grape\",\"cherry\"]\n",
    "a = b.copy()\n",
    "b[0] = \"updated\"\n",
    "print(a, b)   # çıktı: ['grape', 'cherry'] ['updated', 'cherry']"
   ]
  },
  {
   "cell_type": "markdown",
   "metadata": {},
   "source": [
    "<div style=\"display:flex; width:100%; height:10px; background-color: deeppink\"></div>\n",
    "\n",
    "## Tuple ( )\n",
    "* Sıralanabilir.\n",
    "* Güncellenemez.\n",
    "* Aynı eleman birdern fazla kez yazılabilir."
   ]
  },
  {
   "cell_type": "markdown",
   "metadata": {},
   "source": [
    "### Tuple Methods\n",
    "<hr style=\"color:deeppink\">\n",
    "\n",
    "* Temelde tuple methodları 3 tanedir.\n"
   ]
  },
  {
   "cell_type": "markdown",
   "metadata": {},
   "source": [
    "#### ▶️ sorted()\n",
    "\n",
    "* Tuple veri tiplerinin içeriği güncellenemeyeceğinden sort() methodu ile sıralanamaz, sort() methodu sıralanmış veriyi orjinal veri ile değiştirir.\n",
    "Sıralama yapmak için sorted() methodu kullanılmalıdır."
   ]
  },
  {
   "cell_type": "code",
   "execution_count": null,
   "metadata": {},
   "outputs": [],
   "source": [
    "tupl = (1,3,5,2,3,10)\n",
    "# HATA tupl[0] = 20 \n",
    "\n",
    "print(tuple(sorted(tupl)))\n",
    "print(tupl)"
   ]
  },
  {
   "cell_type": "markdown",
   "metadata": {},
   "source": [
    "#### ▶️ count()\n",
    "* Tuple tiplerinde aynı karakter birden fazla kez bulunabilir. Bu nedenle count() methodu ile tekrar sayısı alınabilir."
   ]
  },
  {
   "cell_type": "code",
   "execution_count": null,
   "metadata": {},
   "outputs": [],
   "source": [
    "tupl = (1,3,5,2,3,10)\n",
    "\n",
    "x = tupl.count(3)\n",
    "print(x)"
   ]
  },
  {
   "cell_type": "markdown",
   "metadata": {},
   "source": [
    "#### ▶️ index()\n",
    "* Bir tuple içerisinde bir elemanın index numarasını almak için index() metodu kullanılır."
   ]
  },
  {
   "cell_type": "code",
   "execution_count": null,
   "metadata": {},
   "outputs": [],
   "source": [
    "numbers = (1, 10, 5, 16, 4, 9, 10)\n",
    "numbers.index(10) # 1"
   ]
  },
  {
   "cell_type": "markdown",
   "metadata": {},
   "source": [
    "### Tuple Update\n",
    "<hr style=\"color:deeppink\">"
   ]
  },
  {
   "cell_type": "markdown",
   "metadata": {},
   "source": [
    "#### ▶️ updating\n",
    "\n",
    "* Tuple tipleri yapıları gereği güncellenemez. Bu nedenle bir tuple elemanını değiştirmek istediğimiz zaman, \n",
    "diziyi güncellenebilir olan list veri tipine değiştirip elemanlarını güncelleyebiliriz."
   ]
  },
  {
   "cell_type": "code",
   "execution_count": null,
   "metadata": {},
   "outputs": [],
   "source": [
    "tupl = (1,2,3,42,65,13)\n",
    "liste = list(tupl)\n",
    "liste[0] = 'updated'\n",
    "tupl = tuple(liste)\n",
    "print(tupl)\n"
   ]
  },
  {
   "cell_type": "markdown",
   "metadata": {},
   "source": [
    "<div style=\"display:flex; width:100%; height:10px; background-color: deeppink\"></div>\n",
    "\n",
    "## Sets { }\n",
    "* Sıralanamaz.\n",
    "* Güncellenebilir.\n",
    "* Indexlenemez.\n",
    "* Aynı eleman birdern fazla kez yazılamaz, karakterler unique'dir.\n",
    "* Set veri tipleri kümeler gibidir."
   ]
  },
  {
   "cell_type": "markdown",
   "metadata": {},
   "source": [
    "#### ▶️ indexing - in()\n",
    "* Set veri tiplerinde indexleme yapılamaz, küme elemanları için in metodu ile sorgulama yapılabilir."
   ]
  },
  {
   "cell_type": "code",
   "execution_count": null,
   "metadata": {},
   "outputs": [],
   "source": [
    "set1 = {'apple', 'banana', 'cherry'}\n",
    "print('apple' in set1)"
   ]
  },
  {
   "cell_type": "markdown",
   "metadata": {},
   "source": [
    "### Set Methods\n",
    "<hr style=\"color:deeppink\">"
   ]
  },
  {
   "cell_type": "markdown",
   "metadata": {},
   "source": [
    "#### ▶️ add() - update()\n",
    "* add() methodu bir set dizesine bir eleman eklemek için kullanılır.\n",
    "* update() methodu birden fazla eleman eklemek için kullanılır."
   ]
  },
  {
   "cell_type": "code",
   "execution_count": null,
   "metadata": {},
   "outputs": [],
   "source": [
    "fruits = {\"apple\", \"banana\", \"cherry\"}\n",
    "fruits.add(\"orange\")\n",
    "fruits.update([\"mango\", \"grape\"])\n"
   ]
  },
  {
   "cell_type": "markdown",
   "metadata": {},
   "source": [
    "#### ▶️ remove() - discard()\n",
    "* Bir set dizesinden eleman silmek için bu methodlar kullanılabilir.\n",
    "* remove() methodu ile silmek istediğimiz eleman dizenin içinde yoksa **HATA** döner.\n",
    "* discard() methodu hata döndürmez, dizenin içinde elemanı arar varsa siler."
   ]
  },
  {
   "cell_type": "code",
   "execution_count": null,
   "metadata": {},
   "outputs": [],
   "source": [
    "fruits = {\"apple\", \"banana\", \"cherry\"}\n",
    "# fruits.remove('kiwi') # HATA\n",
    "fruits.discard('kiwi') \n",
    "fruits.remove('banana')\n",
    "print(fruits)"
   ]
  },
  {
   "cell_type": "markdown",
   "metadata": {},
   "source": [
    "#### ▶️ pop() - clear() - del\n",
    "* Set dizelerinde indexleme yapılamadığından pop() methodu rastgele bir eleman siler. (pop() methodu index belirtilmediği takdirde son elemanı siler fakat indexing yapılamaz)\n",
    "* clear() dizenin içindeki tüm elemanları siler, geriye boş bir set dizesi döndürür.\n",
    "* del tanımlı set dizesini tamamen silip, tanımsız hale getirir.\n",
    "\n"
   ]
  },
  {
   "cell_type": "code",
   "execution_count": null,
   "metadata": {},
   "outputs": [],
   "source": [
    "cars = {\"bmw\", \"audi\", \"toyota\", \"subaru\"}\n",
    "cars.pop() \n",
    "print(cars)"
   ]
  },
  {
   "cell_type": "code",
   "execution_count": null,
   "metadata": {},
   "outputs": [],
   "source": [
    "cars = {\"bmw\", \"audi\", \"toyota\", \"subaru\"}\n",
    "cars.clear() \n",
    "print(cars)"
   ]
  },
  {
   "cell_type": "code",
   "execution_count": null,
   "metadata": {},
   "outputs": [],
   "source": [
    "cars = {\"bmw\", \"audi\", \"toyota\", \"subaru\"}\n",
    "del cars\n",
    "print(cars)"
   ]
  },
  {
   "cell_type": "markdown",
   "metadata": {},
   "source": [
    "### Set Joining - Set Birleştirme\n",
    "<hr style=\"color:deeppink\">\n",
    "\n",
    "* Set dizeleri kümeler gibidir. Bu nedenle birden fazla set dizesini birleştirme, ortak elemanlarını alma/çıkarma işlemleri yapabiliriz."
   ]
  },
  {
   "cell_type": "markdown",
   "metadata": {},
   "source": [
    "#### ▶️ union() - update()\n",
    "\n",
    "* union() methodu iki set dizesinin birleştirip geriye yeni bir set dizesi döner.\n",
    "* update() methodu iki set dizesini birleştirirken ikinciyi birinciye ekler seni bir set dizesi oluşturmaz."
   ]
  },
  {
   "cell_type": "code",
   "execution_count": null,
   "metadata": {},
   "outputs": [],
   "source": [
    "set1 = {\"a\", \"b\" , \"c\"}\n",
    "set2 = {1, 2, 3}\n",
    "\n",
    "set3 = set1.union(set2)\n",
    "print(set3)"
   ]
  },
  {
   "cell_type": "code",
   "execution_count": null,
   "metadata": {},
   "outputs": [],
   "source": [
    "set1 = {\"a\", \"b\" , \"c\"}\n",
    "set2 = {1, 2, 3}\n",
    "set1.update(set2)\n",
    "print(set1)"
   ]
  },
  {
   "cell_type": "markdown",
   "metadata": {},
   "source": [
    "#### ▶️ difference() - symmetric_difference()\n",
    "* difference(), iki set kümesinin farkını alır. s1 - s2 şeklinde ifade edilir. s1 kümesinden iki kümenin ortak elemanlarını çıkarıp yeni set olarak geri döndürür.\n",
    "* symmetric_difference, iki set kümesinin kesişimlerini çıkarıp yeni bir set kümesi döndürür.\n",
    "* İki method da orjinal kümeleri değiştirmez yeni bir küme oluşturur.\n"
   ]
  },
  {
   "cell_type": "code",
   "execution_count": null,
   "metadata": {},
   "outputs": [],
   "source": [
    "set1 = {5,10,15}\n",
    "set2 = {10,20,30}\n",
    "\n",
    "set3 = set1.difference(set2)\n",
    "\n",
    "print(set3)"
   ]
  },
  {
   "cell_type": "code",
   "execution_count": null,
   "metadata": {},
   "outputs": [],
   "source": [
    "set1 = {5,10,15}\n",
    "set2 = {10,20,30}\n",
    "\n",
    "set3 = set1.symmetric_difference(set2)\n",
    "\n",
    "print(set3)"
   ]
  },
  {
   "cell_type": "markdown",
   "metadata": {},
   "source": [
    "#### ▶️ intersection() - intersection_update()\n",
    "* intersection(), iki set kümesinin kesişimini yani ortak elemanlarını yeni bir set ile döndürür.\n",
    "* intersection_update(), iki set kümesinin ortak elemanlarını ilk küme ile günceller."
   ]
  },
  {
   "cell_type": "code",
   "execution_count": null,
   "metadata": {},
   "outputs": [],
   "source": [
    "set1 = {5,10,15}\n",
    "set2 = {10,20,30}\n",
    "\n",
    "set3 = set1.intersection(set2)\n",
    "print(set3)"
   ]
  },
  {
   "cell_type": "code",
   "execution_count": null,
   "metadata": {},
   "outputs": [],
   "source": [
    "set1 = {5,10,15}\n",
    "set2 = {10,20,30}\n",
    "\n",
    "set1.intersection_update(set2)\n",
    "print(set1)"
   ]
  },
  {
   "cell_type": "markdown",
   "metadata": {},
   "source": [
    "#### ▶️ isdisjoint()\n",
    "* İki set kümesinin kesişimlerinin boş olup olmama durumunu kontrol eder. \n",
    "* Eğer kesişim boş ise **True** döner."
   ]
  },
  {
   "cell_type": "code",
   "execution_count": null,
   "metadata": {},
   "outputs": [],
   "source": [
    "set1 = {5,10,15}\n",
    "set2 = {10,20,30}\n",
    "\n",
    "result = set1.isdisjoint(set2)\n",
    "print(result)"
   ]
  },
  {
   "cell_type": "markdown",
   "metadata": {},
   "source": [
    "#### ▶️ issubset() - issuperset()\n",
    "* issubset(), iki set kümesinden birinin diğerinin alt kümesi olup olmama durumunu kontrol eder.\n",
    "* issubset(), iki set kümesinden birinin diğerinin üst kümesi olup olmama durumunu kontrol eder."
   ]
  },
  {
   "cell_type": "code",
   "execution_count": null,
   "metadata": {},
   "outputs": [],
   "source": [
    "set1 = {5,10,15}\n",
    "set2 = {5,10}\n",
    "\n",
    "print(set1.issubset(set2)) # False, \n",
    "print(set2.issubset(set1)) # True, set2'nin tüm elemanları set1'de bulunur bu sebeple set2, set1'in alt kümesidir.\n",
    "\n"
   ]
  },
  {
   "cell_type": "code",
   "execution_count": null,
   "metadata": {},
   "outputs": [],
   "source": [
    "set1 = {5,10,15}\n",
    "set2 = {5,10}\n",
    "\n",
    "print(set1.issuperset(set2)) # True, set1'in tüm elemanları set2'de bulunur bu sebeple set1, set2'nin üst kümesidir.\n",
    "print(set2.issuperset(set1))"
   ]
  },
  {
   "cell_type": "markdown",
   "metadata": {},
   "source": [
    "<div style=\"display:flex; width:100%; height:10px; background-color: deeppink\"></div>\n",
    "\n",
    "## Dictioneries { key:value }\n",
    "* Sıralanabilir.\n",
    "* Güncellenebilir.\n",
    "* Indexlenemez.\n",
    "* Aynı eleman birdern fazla kez yazılamaz, karakterler unique'dir.\n"
   ]
  },
  {
   "cell_type": "markdown",
   "metadata": {},
   "source": [
    "### Dictionary Methods\n",
    "<hr style=\"color:deeppink\">\n",
    "\n",
    "* Dict veri tipleri indexlenemezler. Bu yüzden veri elemanlarının value'larına erişmek için key değerlerini indexleyebiliriz.\n",
    "* Dict veri tiplerinin value'ları, herhangi bir veri tipinde olabilir(List, tuple, set, dict).\n",
    "* Bir value değerinin dict tipinde olması nested dict (iç içe szlükler) demektir."
   ]
  },
  {
   "cell_type": "code",
   "execution_count": null,
   "metadata": {},
   "outputs": [],
   "source": [
    "student = {\n",
    "    \"name\": \"Mahmut Serdar İset\",\n",
    "    \"number\": 600,\n",
    "    \"department\": \"Computer Science\",\n",
    "    \"grades\": [70, 80, 90],\n",
    "    \"address\": {\n",
    "      \"city\": \"Ankara\",\n",
    "      \"country\": \"Turkey\",\n",
    "      \"zipCode\" : \"06100\"\n",
    "    }\n",
    "}\n",
    "\n"
   ]
  },
  {
   "cell_type": "markdown",
   "metadata": {},
   "source": [
    "* Örnekte görüldüğü üzere student değişkenine dict tipinde bir veri tanımlanmıştır.\n",
    "* Bu değişkenin elemanlarına bakacak olursak yapı; \"key\" : \"value\" şeklindedir.\n",
    "* Key'ler daima string iken, value'lar ise integer, string, list ve hatta dict veri tipinde olabilir."
   ]
  },
  {
   "cell_type": "markdown",
   "metadata": {},
   "source": [
    "#### ▶️ get()\n",
    "* Veri elemanlarına ulaşmak için get() methodu kullanılabilir."
   ]
  },
  {
   "cell_type": "code",
   "execution_count": null,
   "metadata": {},
   "outputs": [],
   "source": [
    "name = student.get('name')\n",
    "adres = student.get('address').get('zipCode')\n",
    "print(adres)\n",
    "print(name)"
   ]
  },
  {
   "cell_type": "markdown",
   "metadata": {},
   "source": [
    "#### ▶️ [ \"key\" ] ile ulaşma\n",
    "* Veri elemanlarına ulaşmak için kullanılabilecek başka bir yöntemdir.\n",
    "* Bu yöntem ile içe dict'ler ardışık [ ] içine yazılarak alınabilir."
   ]
  },
  {
   "cell_type": "code",
   "execution_count": null,
   "metadata": {},
   "outputs": [],
   "source": [
    "adres = student['address']['city']\n",
    "number = student['number']\n",
    "print(number)\n",
    "print(adres)"
   ]
  },
  {
   "cell_type": "markdown",
   "metadata": {},
   "source": [
    "#### ▶️ items()\n",
    "* items() methodunu kullanarak dict'in tüm elemanlarına liste şeklinde ulaşabiliriz.\n",
    "* Geri dönen her bir key:value ikilisi tuple içinde döner."
   ]
  },
  {
   "cell_type": "code",
   "execution_count": null,
   "metadata": {},
   "outputs": [],
   "source": [
    "print(student.items())"
   ]
  },
  {
   "cell_type": "markdown",
   "metadata": {},
   "source": [
    "#### ▶️ keys() - values()\n",
    "* keys() methodu ile bir dict verisinin key'lerine erişebiliriz.\n",
    "\n",
    "* value() methodu ile bir dict verisinin value'larına erişebiliriz.\n"
   ]
  },
  {
   "cell_type": "code",
   "execution_count": null,
   "metadata": {},
   "outputs": [],
   "source": [
    "value = student.values()\n",
    "print(value)"
   ]
  },
  {
   "cell_type": "code",
   "execution_count": null,
   "metadata": {},
   "outputs": [],
   "source": [
    "key = student.keys()\n",
    "print(key)"
   ]
  },
  {
   "cell_type": "markdown",
   "metadata": {},
   "source": [
    "#### ▶️ updating\n",
    "* Dict içindeki bir key'in value'sunu güncellemek için [ 'key' ] şeklinde atama yapabiliriz."
   ]
  },
  {
   "cell_type": "code",
   "execution_count": null,
   "metadata": {},
   "outputs": [],
   "source": [
    "student['address']['city'] = 'İstanbul'\n",
    "print(student['address']['city'])"
   ]
  },
  {
   "cell_type": "markdown",
   "metadata": {},
   "source": [
    "#### ▶️ pop()\n",
    "* Silmek istediğimiz bir key:value ikilisi için pop() methodunu kullanabiliriz."
   ]
  },
  {
   "cell_type": "code",
   "execution_count": null,
   "metadata": {},
   "outputs": [],
   "source": [
    "student.pop('department')\n",
    "print(student)"
   ]
  },
  {
   "cell_type": "markdown",
   "metadata": {},
   "source": [
    "#### ▶️ clear()\n",
    "* Clear() methodu ile dictionary'in içindeki tüm elemanları silerbiliriz.\n",
    "* Dönen sonuç boş bir dict elemanıdır."
   ]
  },
  {
   "cell_type": "code",
   "execution_count": null,
   "metadata": {},
   "outputs": [],
   "source": [
    "ogrenci = {\n",
    "  \"numara\": 120,\n",
    "  \"ad\": \"Ahmet\",\n",
    "  \"soyad\": \"Yılmaz\"\n",
    "}\n",
    "ogrenci.clear()\n",
    "\n",
    "print(ogrenci)"
   ]
  },
  {
   "cell_type": "markdown",
   "metadata": {},
   "source": [
    "#### ▶️ del\n",
    "* Del methodu ile bir dict değişkenini bellekten silebiliriz.\n",
    "* Silinen değişkene erişemeyiz. Hata sonucu döner."
   ]
  },
  {
   "cell_type": "code",
   "execution_count": null,
   "metadata": {},
   "outputs": [],
   "source": [
    "del ogrenci\n",
    "print(ogrenci)"
   ]
  },
  {
   "cell_type": "markdown",
   "metadata": {},
   "source": [
    "#### ▶️ popitem()\n",
    "* Dict verisinin son elemanını silmek için kullanılır."
   ]
  },
  {
   "cell_type": "code",
   "execution_count": null,
   "metadata": {},
   "outputs": [],
   "source": [
    "ogrenci.popitem()\n",
    "print(ogrenci)"
   ]
  }
 ],
 "metadata": {
  "interpreter": {
   "hash": "57ef28c43a83a86da422f2ca874807688a7f4cb3bf547c67a694492636133cae"
  },
  "kernelspec": {
   "display_name": "Python 3.10.4 64-bit",
   "language": "python",
   "name": "python3"
  },
  "language_info": {
   "codemirror_mode": {
    "name": "ipython",
    "version": 3
   },
   "file_extension": ".py",
   "mimetype": "text/x-python",
   "name": "python",
   "nbconvert_exporter": "python",
   "pygments_lexer": "ipython3",
   "version": "3.10.4"
  },
  "orig_nbformat": 4
 },
 "nbformat": 4,
 "nbformat_minor": 2
}
