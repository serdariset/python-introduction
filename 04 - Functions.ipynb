{
 "cells": [
  {
   "cell_type": "markdown",
   "metadata": {},
   "source": [
    "# Python Functions\n",
    "<hr style=\"color:deeppink\">\n",
    "\n",
    "* Fonksiyonlar tüm programlama dillerinde kullanılır.\n",
    "* Fonksiyonlar belirli işlemleri tekrar tekrar yazmaktan kurtaran, ihtiyaç duyulduğu yerlerde çağırılp kullanılabilen kod bloklarıdır.\n",
    "\n"
   ]
  },
  {
   "cell_type": "markdown",
   "metadata": {},
   "source": [
    "## Functions\n",
    "<hr style=\"color:deeppink\">"
   ]
  },
  {
   "cell_type": "markdown",
   "metadata": {},
   "source": [
    "#### ▶️ Function Assingment\n",
    "\n",
    "* Python fonksiyon tanımlamak def anahtarı ile yapılır.\n",
    "* Bir fonksiyonun içine kod yazmak için, fonksiyonun tanımlandığı satırın altından itibaren satırlarımıza 4 boşluk (1 tab) bırakarak yazabiliriz.\n"
   ]
  },
  {
   "cell_type": "code",
   "execution_count": null,
   "metadata": {},
   "outputs": [],
   "source": [
    "def say_hello():\n",
    "    print('Hello')\n"
   ]
  },
  {
   "cell_type": "markdown",
   "metadata": {},
   "source": [
    "#### ▶️ Function Calling\n",
    "\n",
    "\n",
    "* Yazdığımız fonksiyonu kullanabilmek için fonksiyon isimin yazdıktan sonra parantez açıp kapatmamız gereklidir."
   ]
  },
  {
   "cell_type": "code",
   "execution_count": null,
   "metadata": {},
   "outputs": [],
   "source": [
    "say_hello()"
   ]
  },
  {
   "cell_type": "markdown",
   "metadata": {},
   "source": [
    "#### ▶️ Sending Parameters\n",
    "\n",
    "* Yazdığımız fonksiyonlara fonksiyon içerisinde kullanacağımız parameterleri gönderebiliriz.\n",
    "* Göndermek istediğimiz parametreleri, fonksiyonu çağırırken parantezler arasında belirtiriz. \n",
    "* Tüm veri tipleri parametre olarak gönderilebilir.\n",
    "* İkinci örnekte görüldüğü üzere parametre adı ve değişken adı aynıdır. Bu kodun çalışmasına engel değildir, geriye bir hata döndürmez."
   ]
  },
  {
   "cell_type": "code",
   "execution_count": null,
   "metadata": {},
   "outputs": [],
   "source": [
    "# Doğrudan gönderme\n",
    "def say_my_name(name):\n",
    "    print(name)\n",
    "\n",
    "say_my_name('John')"
   ]
  },
  {
   "cell_type": "code",
   "execution_count": null,
   "metadata": {},
   "outputs": [],
   "source": [
    "# Değişken olarak gönderme\n",
    "name = \"Doe\"\n",
    "say_my_name(name)"
   ]
  },
  {
   "cell_type": "markdown",
   "metadata": {},
   "source": [
    "#### ▶️ return\n",
    "* Fonksiyon içinde yapılan işlemlerden sonra geriye bir sonuç göndermesini isteyebiliriz.\n",
    "* print() methodu ile çıktı almakla geriye bilgi döndürmek aynı şeyler değildir.\n",
    "* Örnekte görüldüğü üzere bir kare alma fonksiyonu yazdık ve fonksiyonu çağırıken bir değişkene atadık. Artık fonksiyona gönderdiğimiz parametre fonksiyon içinde işlendi ve return keyword ile sonuç result değişkenimize eşitlendi."
   ]
  },
  {
   "cell_type": "code",
   "execution_count": null,
   "metadata": {},
   "outputs": [],
   "source": [
    "def sqrt(number):\n",
    "    return number ** 2\n",
    "\n",
    "result = sqrt(4)\n",
    "\n",
    "print(result)"
   ]
  },
  {
   "cell_type": "markdown",
   "metadata": {},
   "source": [
    "#### ▶️ Nested Functions\n",
    "\n",
    "* Fonksiyonlar içe içe kullanılabilir, yazılabilir ve bir fonksiyonun içerisinde başka bir fonksiyon çağırılabilir."
   ]
  },
  {
   "cell_type": "code",
   "execution_count": null,
   "metadata": {},
   "outputs": [],
   "source": [
    "def calculateAge(age):\n",
    "    return 2022 - age\n",
    "\n",
    "def retirement(birthday_year, name):\n",
    "    age = calculateAge(birthday_year)\n",
    "\n",
    "    if age < 65:\n",
    "        print(f\"{name} is {age} years old. He will retire in {65 - age} years.\")\n",
    "    else:\n",
    "        print(f\"{name} is {age} years old. He is retired.\")  \n",
    "\n",
    "retirement(1998, 'Ronaldo')\n",
    "retirement(1945, 'Messi')\n"
   ]
  },
  {
   "cell_type": "markdown",
   "metadata": {},
   "source": [
    "## Function Parameters\n",
    "<hr style=\"color:deeppink\">\n",
    "\n",
    "* Fonskiyonlara parametre göndermenin bazı kuralları ve yöntemleri vardır."
   ]
  },
  {
   "cell_type": "markdown",
   "metadata": {},
   "source": [
    "#### ▶️ Default Parameters\n",
    "\n",
    "* Fonksiyonlarda kullanmak istediğimiz parametreleri göndermek istemediğimizde default tanımlamalar yapabiliriz.\n",
    "* Fonksiyonda bir belirttiğimiz parametreye göndermezsek hata alırız."
   ]
  },
  {
   "cell_type": "code",
   "execution_count": null,
   "metadata": {},
   "outputs": [],
   "source": [
    "def about_me(name, country = 'Turkey'):\n",
    "    print(f\"Hello my name is {name}, im from {country}\")\n",
    "\n",
    "about_me('Serdar İset')\n",
    "about_me('John Doe', 'USA')    "
   ]
  },
  {
   "cell_type": "code",
   "execution_count": null,
   "metadata": {},
   "outputs": [],
   "source": [
    "def sum(num1,num2):\n",
    "    return num1 + num2\n",
    "\n",
    "sum(5)  # num2 bilgisi gereklidir. "
   ]
  },
  {
   "cell_type": "markdown",
   "metadata": {},
   "source": [
    "#### ▶️ \\*args - Arbitrary Arguments\n",
    "\n",
    "* Fonksiyonlarımıza çok sayıda parametre göndermemiz gerekebilir.\n",
    "* Parametre sayısı arttıkça bu parametreleri fonksiyona tanımlamak zorlaşacaktır.\n",
    "* Bu durumun önüne geçmek için *args methodunu kullanabiliriz.\n",
    "* *args methodu ile gönderilen parametreler tuple veri tipinin içine eklenir."
   ]
  },
  {
   "cell_type": "code",
   "execution_count": null,
   "metadata": {},
   "outputs": [],
   "source": [
    "def sum(*args):\n",
    "    nums = args\n",
    "    print(f\"Veri tipi: {type(nums)}\")\n",
    "    print('--------------')\n",
    "    result = 0\n",
    "    for i in nums:\n",
    "        result += i\n",
    "    \n",
    "    print(result)\n",
    "\n",
    "sum(12,19,25,48,56)"
   ]
  },
  {
   "cell_type": "markdown",
   "metadata": {},
   "source": [
    "#### ▶️ **kwargs - Keyword Arguments\n",
    "* **kwargs methodunda, *args'dan farklı olarak gönderdiğimiz parametreleri key=value bilgisi şeklinde gönderebiliriz.\n",
    "* Gönderilen veriler dict veri tipindedir.\n"
   ]
  },
  {
   "cell_type": "code",
   "execution_count": null,
   "metadata": {},
   "outputs": [],
   "source": [
    "def create_user(**kwargs):\n",
    "    print(kwargs)\n",
    "\n",
    "create_user(name = 'Serdar', surname = 'İset', age = 22) "
   ]
  },
  {
   "cell_type": "markdown",
   "metadata": {},
   "source": []
  },
  {
   "cell_type": "markdown",
   "metadata": {},
   "source": [
    "## Lambda - Map - Filter Functions\n",
    "<hr style=\"color:deeppink\">"
   ]
  },
  {
   "cell_type": "markdown",
   "metadata": {},
   "source": [
    "#### ▶️ map()\n",
    "* Map fonksiyonu döngüler yerine kullanabilecek bir fonksiyondur.\n",
    "* Bu fonksiyon yapmak istediğimiz işlemi tüm liste elemanlarına uygular.\n",
    "* iki parametre alır. İlki, map fonksiyonunun uygulayacağı fonksiyon; ikinsici ise fonksiyonu uygulanacağı liste.\n"
   ]
  },
  {
   "cell_type": "code",
   "execution_count": 43,
   "metadata": {},
   "outputs": [
    {
     "name": "stdout",
     "output_type": "stream",
     "text": [
      "[1, 4, 9, 16, 25, 36, 49, 64, 81, 100]\n"
     ]
    }
   ],
   "source": [
    "def sqrt(number):\n",
    "    return number ** 2\n",
    "\n",
    "numbers = [*range(1,11)] # Broadcasting methodu -> list(range(1,11)) ile aynıdır.\n",
    "\n",
    "result = [*map(sqrt, numbers)]\n",
    "\n",
    "print(result)\n"
   ]
  },
  {
   "cell_type": "markdown",
   "metadata": {},
   "source": [
    "#### ▶️ filter()\n",
    "* Filter fonksiyonu, list dizeleri içindeki elemanları belli kriterlere göre filtrelememizi sağlayan bir fonksiyondur.\n"
   ]
  },
  {
   "cell_type": "code",
   "execution_count": 44,
   "metadata": {},
   "outputs": [
    {
     "name": "stdout",
     "output_type": "stream",
     "text": [
      "[2, 4, 6, 8, 10]\n"
     ]
    }
   ],
   "source": [
    "numbers = [*range(1,11)] # Broadcasting methodu -> list(range(1,11)) ile aynıdır.\n",
    "\n",
    "def filter_evens(number):\n",
    "    if number % 2 == 0:\n",
    "        return number \n",
    "\n",
    "filter_result = [*filter(filter_evens, numbers)]\n",
    "print(filter_result)"
   ]
  },
  {
   "cell_type": "markdown",
   "metadata": {},
   "source": [
    "#### ▶️ lambda\n",
    "\n",
    "* Lambda fonksiyonu tek satırlık, isimsiz bir fonksiyondur.\n",
    "* Bir veya daha fazla parametre kabul edebilir, ancak tek bir işlem yapar.\n",
    "* Lambda fonksiyonları yapılan işlemi otomatik geri döndürür, return etmemize gerek yoktur.\n",
    "* Lambda fonksiyonu bir başka fonksiyon içinde kullanıldığında anlam kazanır. \n",
    "* **Lambda fonksiyonu, map ve filter gibi fonksiyonların ilk parametreleri yerine yazılabilir.** "
   ]
  },
  {
   "cell_type": "code",
   "execution_count": 45,
   "metadata": {},
   "outputs": [
    {
     "name": "stdout",
     "output_type": "stream",
     "text": [
      "[1, 4, 9, 16, 25, 36, 49, 64, 81, 100]\n"
     ]
    }
   ],
   "source": [
    "# Map fonksiyonu ile kullanımı\n",
    "lambda1 = [*map(lambda sayi: sayi ** 2, numbers)]\n",
    "print(lambda1)"
   ]
  },
  {
   "cell_type": "code",
   "execution_count": 46,
   "metadata": {},
   "outputs": [
    {
     "name": "stdout",
     "output_type": "stream",
     "text": [
      "[2, 4, 6, 8, 10]\n"
     ]
    }
   ],
   "source": [
    "# Filter fonksiyonu ile kullanımı\n",
    "lambda2 = [*filter(lambda sayi: sayi % 2 == 0, numbers)]\n",
    "print(lambda2)"
   ]
  },
  {
   "cell_type": "code",
   "execution_count": null,
   "metadata": {},
   "outputs": [],
   "source": []
  }
 ],
 "metadata": {
  "interpreter": {
   "hash": "57ef28c43a83a86da422f2ca874807688a7f4cb3bf547c67a694492636133cae"
  },
  "kernelspec": {
   "display_name": "Python 3.10.4 64-bit",
   "language": "python",
   "name": "python3"
  },
  "language_info": {
   "codemirror_mode": {
    "name": "ipython",
    "version": 3
   },
   "file_extension": ".py",
   "mimetype": "text/x-python",
   "name": "python",
   "nbconvert_exporter": "python",
   "pygments_lexer": "ipython3",
   "version": "3.10.4"
  },
  "orig_nbformat": 4
 },
 "nbformat": 4,
 "nbformat_minor": 2
}
